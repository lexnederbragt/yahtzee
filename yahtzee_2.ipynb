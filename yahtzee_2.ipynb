{
 "cells": [
  {
   "cell_type": "code",
   "execution_count": null,
   "metadata": {
    "collapsed": false
   },
   "outputs": [],
   "source": [
    "import itertools\n",
    "from collections import Counter, namedtuple"
   ]
  },
  {
   "cell_type": "code",
   "execution_count": null,
   "metadata": {
    "collapsed": false
   },
   "outputs": [],
   "source": [
    "def get_dice_frequencies(throw):\n",
    "    \"\"\"\n",
    "    Returns the counts of unique dice, pairs, three of a kind etc\n",
    "    \"\"\"\n",
    "    c = Counter(throw)\n",
    "    frequencies = {}\n",
    "    for i in [str(j) for j in range(1, 7)]:\n",
    "        if i in c:\n",
    "            result_type = types[c[i]]\n",
    "            if result_type in frequencies:\n",
    "                frequencies[result_type].append(i)\n",
    "            else:\n",
    "                frequencies[result_type] = [i]\n",
    "    return frequencies"
   ]
  },
  {
   "cell_type": "code",
   "execution_count": null,
   "metadata": {
    "collapsed": false
   },
   "outputs": [],
   "source": [
    "def dice_at_frequency(throw, frequency):\n",
    "    \"\"\"\n",
    "    Determines which dice are at a certain frequency for a throw.\n",
    "    Examples:\n",
    "        in throw '112234', '1' and '2' are at frequency 2 (appear 2 times)\n",
    "        in throw '111134', '1' is at frequency 4 (appears 4 times)\n",
    "    \"\"\"\n",
    "    c = Counter(throw)\n",
    "    dice_counts = c.values()\n",
    "    return [int(i) for i in c if c[i] == frequency]"
   ]
  },
  {
   "cell_type": "code",
   "execution_count": null,
   "metadata": {
    "collapsed": true
   },
   "outputs": [],
   "source": [
    "def dicesum(throw):\n",
    "    \"\"\"\n",
    "    Returns the sum of all dices in a throw\n",
    "    \"\"\"\n",
    "    return sum([int(i) for i in throw])"
   ]
  },
  {
   "cell_type": "code",
   "execution_count": null,
   "metadata": {
    "collapsed": false
   },
   "outputs": [],
   "source": [
    "def get_throw_result(throw):\n",
    "    \"\"\"\n",
    "    Determines the type of throw:\n",
    "    Full/Big/Small straight\n",
    "    Maxi Yahtzee, 5/4/3 equal\n",
    "    3/2/1 pair\n",
    "    Tower and Castle\n",
    "    To Do: number of 1's, 2's, 3's, ... for the top part of the scoring table\n",
    "    \"\"\"\n",
    "    \n",
    "    # check input\n",
    "    assert type(throw) is str, 'String expected, but \"%r\" is %r' % (throw, type(throw))\n",
    "    assert len(throw) == 6, 'Throw expected to be 6 characters, not %i' % len(throw)\n",
    "\n",
    "    # process\n",
    "    throw_type = ''\n",
    "    throw_results = []\n",
    "#    dice_counts = Counter(throw).values()\n",
    "    if throw == '123456':\n",
    "        throw_results.append(result('Full straight', '123456', 21))\n",
    "    if ''.join(sorted(set(throw)))[0:5] == '12345':\n",
    "        throw_results.append(result('Small straight', '12345', 15))\n",
    "    if ''.join(sorted(set(throw)))[-5:] == '23456':\n",
    "        throw_results.append(result('Big straight', '23456', 20))\n",
    "\n",
    "    # Collect dice frequencies\n",
    "    dice_frequencies = get_dice_frequencies(throw)\n",
    "    # test for pairs, three of a kind, ..., Maxi Yahtzee\n",
    "    for f in range(2,7):\n",
    "        result_type = types[f]\n",
    "        if result_type in dice_frequencies:\n",
    "            for dice in dice_frequencies[result_type]:\n",
    "                throw_results.append(result(result_type, dice, f * int(dice)))\n",
    "    # test for Tower, Castle, Two pair, Three pair\n",
    "    if 'Pair' in dice_frequencies and len(dice_frequencies['Pair']) == 3:\n",
    "        throw_results.append(result('Three pair', throw, dicesum(throw)))\n",
    "    if 'Three of a kind' in dice_frequencies and len(dice_frequencies['Three of a kind']) == 2:\n",
    "        throw_results.append(result('Castle (3 + 3)', throw, dicesum(throw)))\n",
    "    if 'Four of a kind' in dice_frequencies and 'Pair' in dice_frequencies:\n",
    "        throw_results.append(result('Tower (4 + 2)', throw, dicesum(throw)))\n",
    "    if len(throw_results) < 1 :\n",
    "        raise Exception(\"Unknown combination of dice: \" , throw)\n",
    "    return throw_results"
   ]
  },
  {
   "cell_type": "code",
   "execution_count": null,
   "metadata": {
    "collapsed": false
   },
   "outputs": [],
   "source": [
    "types = ',Single,Pair,Three of a kind,Four of a kind,Five of a kind,Maxi Yahtzee'.split(',')\n",
    "dices = [i for i in range(1, 7)]\n",
    "throws = {}\n",
    "result = namedtuple('result', ['type', 'dice', 'score'])\n",
    "# the code below is overkill in that it generates all 46656 combinations of 6 dice throws\n",
    "# but the resulting unique set is 462 combination, which seems to be correct\n",
    "for i in itertools.product(dices, dices, dices, dices, dices, dices):\n",
    "    throw = ''.join([str(j) for j in sorted(i)])\n",
    "    throws[throw] = ''"
   ]
  },
  {
   "cell_type": "code",
   "execution_count": null,
   "metadata": {
    "collapsed": true
   },
   "outputs": [],
   "source": [
    "for throw in sorted(throws):\n",
    "    throw_results = get_throw_result(throw)\n",
    "    print throw, [(t.type, t.dice, t.score) for t in throw_results]"
   ]
  },
  {
   "cell_type": "code",
   "execution_count": null,
   "metadata": {
    "collapsed": false
   },
   "outputs": [],
   "source": [
    "#get_throw_result('556677')\n",
    "#Counter('556677')"
   ]
  },
  {
   "cell_type": "code",
   "execution_count": null,
   "metadata": {
    "collapsed": false
   },
   "outputs": [],
   "source": [
    "#get_throw_result('1')"
   ]
  },
  {
   "cell_type": "code",
   "execution_count": null,
   "metadata": {
    "collapsed": false
   },
   "outputs": [],
   "source": [
    "#get_throw_result(1)"
   ]
  },
  {
   "cell_type": "code",
   "execution_count": null,
   "metadata": {
    "collapsed": false
   },
   "outputs": [],
   "source": [
    "def test_dice_frequencies_singles():\n",
    "    assert get_dice_frequencies('123456') == {'Single': ['1', '2', '3', '4', '5', '6']}\n",
    "def test_dice_frequencies_3():\n",
    "    assert get_dice_frequencies('222333') == {'Three of a kind': ['2', '3']}\n",
    "def test_dice_frequencies_4():\n",
    "    assert get_dice_frequencies('111122') == {'Four of a kind': ['1'], 'Pair': ['2']}\n",
    "def test_dice_frequencies_6():\n",
    "    assert get_dice_frequencies('111111') == {'Maxi Yahtzee': ['1']}"
   ]
  },
  {
   "cell_type": "code",
   "execution_count": null,
   "metadata": {
    "collapsed": false
   },
   "outputs": [],
   "source": [
    "def test_Tower():\n",
    "    assert get_throw_result('111122') == [result(type='Pair', dice='2', score=4),\n",
    "                                          result(type='Four of a kind', dice='1', score=4),\n",
    "                                          result(type='Tower (4 + 2)', dice='111122', score=8)]\n",
    "def test_Three_pairs():\n",
    "    assert get_throw_result('112244') == [result(type='Pair', dice='1', score=2),\n",
    "                                          result(type='Pair', dice='2', score=4),\n",
    "                                          result(type='Pair', dice='4', score=8),\n",
    "                                          result(type='Three pair', dice='112244', score=14)]"
   ]
  }
 ],
 "metadata": {
  "kernelspec": {
   "display_name": "Python 2",
   "language": "python",
   "name": "python2"
  },
  "language_info": {
   "codemirror_mode": {
    "name": "ipython",
    "version": 2
   },
   "file_extension": ".py",
   "mimetype": "text/x-python",
   "name": "python",
   "nbconvert_exporter": "python",
   "pygments_lexer": "ipython2",
   "version": "2.7.9"
  }
 },
 "nbformat": 4,
 "nbformat_minor": 0
}
