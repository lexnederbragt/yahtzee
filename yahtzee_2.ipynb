{
 "cells": [
  {
   "cell_type": "code",
   "execution_count": null,
   "metadata": {
    "collapsed": false
   },
   "outputs": [],
   "source": [
    "import itertools\n",
    "from collections import Counter, namedtuple"
   ]
  },
  {
   "cell_type": "code",
   "execution_count": null,
   "metadata": {
    "collapsed": true
   },
   "outputs": [],
   "source": [
    "def get_types():\n",
    "    return ',Single,Pair,Three of a kind,Four of a kind,Five of a kind,Maxi Yahtzee'.split(',')"
   ]
  },
  {
   "cell_type": "code",
   "execution_count": null,
   "metadata": {
    "collapsed": false
   },
   "outputs": [],
   "source": [
    "def get_dice_frequencies(throw, types):\n",
    "    \"\"\"\n",
    "    Returns the counts of unique dice, pairs, three of a kind etc\n",
    "    \"\"\"\n",
    "    c = Counter(throw)\n",
    "    frequencies = {}\n",
    "    for i in [str(j) for j in range(1, 7)]:\n",
    "        if i in c:\n",
    "            result_type = types[c[i]]\n",
    "            if result_type in frequencies:\n",
    "                frequencies[result_type].append(i)\n",
    "            else:\n",
    "                frequencies[result_type] = [i]\n",
    "    return frequencies"
   ]
  },
  {
   "cell_type": "code",
   "execution_count": null,
   "metadata": {
    "collapsed": true
   },
   "outputs": [],
   "source": [
    "def dicesum(throw):\n",
    "    \"\"\"\n",
    "    Returns the sum of all dices in a throw\n",
    "    \"\"\"\n",
    "    return sum([int(i) for i in throw])"
   ]
  },
  {
   "cell_type": "code",
   "execution_count": null,
   "metadata": {
    "collapsed": false
   },
   "outputs": [],
   "source": [
    "def get_throw_result(throw, types):\n",
    "    \"\"\"\n",
    "    Determines the type of throw:\n",
    "    Full/Big/Small straight\n",
    "    Maxi Yahtzee, 5/4/3 equal\n",
    "    3/2/1 pair\n",
    "    Tower and Castle\n",
    "    To Do: number of 1's, 2's, 3's, ... for the top part of the scoring table\n",
    "    \"\"\"\n",
    "    \n",
    "    # check input\n",
    "    assert type(throw) is str, 'String expected, but \"%r\" is %r' % (throw, type(throw))\n",
    "    assert len(throw) == 6, 'Throw expected to be 6 characters, not %i' % len(throw)\n",
    "    assert set('123456') == set('123456' + throw), 'Only dices between 1 and 6 allowed, found \"%s\"' % throw\n",
    "\n",
    "    # process\n",
    "    throw_type = ''\n",
    "    throw_results = []\n",
    "    if throw == '123456':\n",
    "        throw_results.append(result('Full straight', '123456', 21))\n",
    "    if ''.join(sorted(set(throw)))[0:5] == '12345':\n",
    "        throw_results.append(result('Small straight', '12345', 15))\n",
    "    if ''.join(sorted(set(throw)))[-5:] == '23456':\n",
    "        throw_results.append(result('Big straight', '23456', 20))\n",
    "\n",
    "    # Collect dice frequencies\n",
    "    dice_frequencies = get_dice_frequencies(throw, types)\n",
    "    # test for pairs, three of a kind, ..., Maxi Yahtzee\n",
    "    for f in range(2,7):\n",
    "        result_type = types[f]\n",
    "        if result_type in dice_frequencies:\n",
    "            for dice in dice_frequencies[result_type]:\n",
    "                throw_results.append(result(result_type, dice, f * int(dice)))\n",
    "    # test for Tower, Castle, Two pair, Three pair\n",
    "    if 'Pair' in dice_frequencies and len(dice_frequencies['Pair']) == 3:\n",
    "        throw_results.append(result('Three pair', throw, dicesum(throw)))\n",
    "    if 'Three of a kind' in dice_frequencies and len(dice_frequencies['Three of a kind']) == 2:\n",
    "        throw_results.append(result('Castle (3 + 3)', throw, dicesum(throw)))\n",
    "    if 'Four of a kind' in dice_frequencies and 'Pair' in dice_frequencies:\n",
    "        throw_results.append(result('Tower (4 + 2)', throw, dicesum(throw)))\n",
    "    if len(throw_results) < 1 :\n",
    "        raise Exception(\"Unknown combination of dice: \" , throw)\n",
    "    return throw_results"
   ]
  },
  {
   "cell_type": "code",
   "execution_count": null,
   "metadata": {
    "collapsed": false
   },
   "outputs": [],
   "source": [
    "def test_dice_frequencies_singles():\n",
    "    assert get_dice_frequencies('123456', types = get_types()) == {'Single': ['1', '2', '3', '4', '5', '6']}\n",
    "def test_dice_frequencies_3():\n",
    "    assert get_dice_frequencies('222333', types = get_types()) == {'Three of a kind': ['2', '3']}\n",
    "def test_dice_frequencies_4():\n",
    "    assert get_dice_frequencies('111122', types = get_types()) == {'Four of a kind': ['1'], 'Pair': ['2']}\n",
    "def test_dice_frequencies_6():\n",
    "    assert get_dice_frequencies('111111', types = get_types()) == {'Maxi Yahtzee': ['1']}"
   ]
  },
  {
   "cell_type": "code",
   "execution_count": null,
   "metadata": {
    "collapsed": false
   },
   "outputs": [],
   "source": [
    "def test_Tower():\n",
    "    assert get_throw_result('111122', types = get_types()) == [result(type='Pair', dice='2', score=4),\n",
    "                                          result(type='Four of a kind', dice='1', score=4),\n",
    "                                          result(type='Tower (4 + 2)', dice='111122', score=8)]\n",
    "def test_Three_pairs():\n",
    "    assert get_throw_result('112244', types = get_types()) == [result(type='Pair', dice='1', score=2),\n",
    "                                          result(type='Pair', dice='2', score=4),\n",
    "                                          result(type='Pair', dice='4', score=8),\n",
    "                                          result(type='Three pair', dice='112244', score=14)]\n",
    "def test_Five_of_a_kind():\n",
    "    assert get_throw_result('444441', types = get_types()) == [result(type='Five of a kind', dice='4', score=20)]\n",
    "def test_Maxi_yahtzee():\n",
    "    assert get_throw_result('222222', types = get_types()) == [result(type='Maxi Yahtzee', dice='2', score=12)]"
   ]
  },
  {
   "cell_type": "code",
   "execution_count": null,
   "metadata": {
    "collapsed": false
   },
   "outputs": [],
   "source": [
    "def test_dicesum_123456():\n",
    "    assert dicesum('123456') == 21, dicesum('123456')\n",
    "def test_dicesum_222222():\n",
    "    assert dicesum('222222') == 12, dicesum('222222')"
   ]
  },
  {
   "cell_type": "code",
   "execution_count": null,
   "metadata": {
    "collapsed": false
   },
   "outputs": [],
   "source": [
    "def test_dice_too_low_high_fail():\n",
    "    try:\n",
    "        t = get_throw_result('012345', types = get_types())\n",
    "    except AssertionError, e:\n",
    "        assert e.message == 'Only dices between 1 and 6 allowed, found \"012345\"', e.message\n",
    "def test_dice_as_int_not_string_fail():\n",
    "    try:\n",
    "        t = get_throw_result(123456, types = get_types())\n",
    "    except AssertionError, e:\n",
    "        assert e.message == 'String expected, but \"123456\" is <type \\'int\\'>', e.message\n",
    "def test_dice_too_short_fail():\n",
    "    try:\n",
    "        t = get_throw_result('12345', types = get_types())\n",
    "    except AssertionError, e:\n",
    "        assert e.message == 'Throw expected to be 6 characters, not 5', e.message"
   ]
  },
  {
   "cell_type": "code",
   "execution_count": null,
   "metadata": {
    "collapsed": false
   },
   "outputs": [],
   "source": [
    "result = namedtuple('result', ['type', 'dice', 'score'])\n",
    "if __name__ == '__main__':\n",
    "    types = get_types() #',Single,Pair,Three of a kind,Four of a kind,Five of a kind,Maxi Yahtzee'.split(',')\n",
    "    dices = [i for i in range(1, 7)]\n",
    "    throws = {}\n",
    "    # the code below is overkill in that it generates all 46656 combinations of 6 dice throws\n",
    "    # but the resulting unique set is 462 combination, which seems to be correct\n",
    "    for i in itertools.product(dices, dices, dices, dices, dices, dices):\n",
    "        throw = ''.join([str(j) for j in sorted(i)])\n",
    "        throws[throw] = ''\n",
    "    # assing score to each throw\n",
    "    for throw in sorted(throws):\n",
    "        throw_results = get_throw_result(throw, types)\n",
    "        print throw, [(t.type, t.dice, t.score) for t in throw_results]"
   ]
  }
 ],
 "metadata": {
  "kernelspec": {
   "display_name": "Python 2",
   "language": "python",
   "name": "python2"
  },
  "language_info": {
   "codemirror_mode": {
    "name": "ipython",
    "version": 2
   },
   "file_extension": ".py",
   "mimetype": "text/x-python",
   "name": "python",
   "nbconvert_exporter": "python",
   "pygments_lexer": "ipython2",
   "version": "2.7.9"
  }
 },
 "nbformat": 4,
 "nbformat_minor": 0
}
