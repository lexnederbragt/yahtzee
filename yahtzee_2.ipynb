{
 "cells": [
  {
   "cell_type": "code",
   "execution_count": null,
   "metadata": {
    "collapsed": false
   },
   "outputs": [],
   "source": [
    "import itertools\n",
    "from collections import Counter, namedtuple"
   ]
  },
  {
   "cell_type": "code",
   "execution_count": null,
   "metadata": {
    "collapsed": false
   },
   "outputs": [],
   "source": [
    "dices = [i for i in range(1, 7)]\n",
    "throws = {}\n",
    "# the code below is overkill in that it generates all 46656 combinations of 6 dice throws\n",
    "# but the resulting unique set is 462 combination, which seems to be correct\n",
    "for i in itertools.product(dices, dices, dices, dices, dices, dices):\n",
    "    throw = ''.join([str(j) for j in sorted(i)])\n",
    "    throws[throw] = ''"
   ]
  },
  {
   "cell_type": "code",
   "execution_count": null,
   "metadata": {
    "collapsed": false
   },
   "outputs": [],
   "source": [
    "def dice_at_frequency(throw, frequency):\n",
    "    \"\"\"\n",
    "    Determines which dice are at a certain frequency for a throw.\n",
    "    Examples:\n",
    "        in throw '112234', '1' and '2' are at frequency 2 (appear 2 times)\n",
    "        in throw '111134', '1' is at frequency 4 (appears 4 times)\n",
    "    \"\"\"\n",
    "    c = Counter(throw)\n",
    "    dice_counts = c.values()\n",
    "    return [int(i) for i in c if c[i] == frequency]"
   ]
  },
  {
   "cell_type": "code",
   "execution_count": null,
   "metadata": {
    "collapsed": true
   },
   "outputs": [],
   "source": [
    "def dicesum(throw):\n",
    "    \"\"\"\n",
    "    Returns the sum of all dices in a throw\n",
    "    \"\"\"\n",
    "    return sum([int(i) for i in throw])"
   ]
  },
  {
   "cell_type": "code",
   "execution_count": null,
   "metadata": {
    "collapsed": false
   },
   "outputs": [],
   "source": [
    "def get_throw_result(throw):\n",
    "    \"\"\"\n",
    "    Determines the type of throw:\n",
    "    Full/Big/Smal straight\n",
    "    Maxi Yahtzee, 5/4/3 equal\n",
    "    3/2/1 pair\n",
    "    Tower and Castle\n",
    "    To Do: number of 1's, 2's, 3's, ... for the top part of the scoring table\n",
    "    \"\"\"\n",
    "    # note that the order of the checks is important!\n",
    "    \n",
    "    # check input\n",
    "    assert type(throw) is str, 'String expected, but \"%r\" is %r' % (throw, type(throw))\n",
    "    assert len(throw) == 6, 'Throw expected to be 6 characters, not %i' % len(throw)\n",
    "\n",
    "    # process\n",
    "    throw_type = ''\n",
    "    result = namedtuple('result', ['type', 'score'])\n",
    "    dice_counts = Counter(throw).values()\n",
    "    if throw == '123456':\n",
    "        return result('Full straight', 21)\n",
    "    elif ''.join(sorted(set(throw))) == '12345':\n",
    "        return result('Small straight', 15)\n",
    "    elif ''.join(sorted(set(throw))) == '23456':\n",
    "        return result('Big straight', 20)\n",
    "    elif 6 in dice_counts:\n",
    "        return result('Maxi Yahtzee', 100)\n",
    "    elif 5 in dice_counts:\n",
    "        five = dice_at_frequency(throw, 5)[0]\n",
    "        return result('Five equal', 5 * five)\n",
    "    elif 4 in dice_counts and 2 in dice_counts:\n",
    "        return result('Tower (4 + 2)', dicesum(throw))\n",
    "    elif 4 in dice_counts:\n",
    "        four = dice_at_frequency(throw, 4)[0]\n",
    "        return result('Four equal', 4 * four)\n",
    "    elif dice_counts == [3, 3]:\n",
    "        return result('Castle (3 + 3)', dicesum(throw))\n",
    "    elif 3 in dice_counts:\n",
    "        three = dice_at_frequency(throw, 3)\n",
    "        return result('Three equal', [3 * i for i in three])\n",
    "    elif dice_counts == [2, 2, 2]:\n",
    "        return result('Three pairs', dicesum(throw))\n",
    "    elif sorted(dice_counts)[-2:] == [2, 2]:\n",
    "        two = dice_at_frequency(throw, 2)\n",
    "        return result('Two pairs', sum([2 * i for i in two]))\n",
    "    elif sorted(dice_counts)[-1:] == [2]:\n",
    "        two = dice_at_frequency(throw, 2)\n",
    "        return result('One pair', [2 * i for i in two])\n",
    "    else:\n",
    "        raise Exception(\"Unknown combination of dice: \" , throw)\n",
    "    return throw_type"
   ]
  },
  {
   "cell_type": "code",
   "execution_count": null,
   "metadata": {
    "collapsed": false
   },
   "outputs": [],
   "source": [
    "for throw in sorted(throws):\n",
    "    throw_result = get_throw_result(throw)\n",
    "    print throw, throw_result.type, throw_result.score\n",
    "    #if throw_type: print throw, throw_type"
   ]
  },
  {
   "cell_type": "code",
   "execution_count": null,
   "metadata": {
    "collapsed": false
   },
   "outputs": [],
   "source": [
    "#get_throw_result('1')"
   ]
  },
  {
   "cell_type": "code",
   "execution_count": null,
   "metadata": {
    "collapsed": false
   },
   "outputs": [],
   "source": [
    "#get_throw_result(1)"
   ]
  },
  {
   "cell_type": "code",
   "execution_count": null,
   "metadata": {
    "collapsed": false
   },
   "outputs": [],
   "source": [
    "def test_Tower():\n",
    "    result = get_throw_result('222233')\n",
    "    assert result.type  == 'Tower (4 + 2)', result.type\n",
    "    assert result.score == 14, result.score\n",
    "\n",
    "def test_Three_pairs():\n",
    "    result = get_throw_result('112244')\n",
    "    assert result.type  == 'Three pairs', result.type\n",
    "    assert result.score == 14, result.score"
   ]
  },
  {
   "cell_type": "code",
   "execution_count": null,
   "metadata": {
    "collapsed": false
   },
   "outputs": [],
   "source": [
    "two = dice_at_frequency('112234',2)\n",
    "print two\n",
    "#[3 * i for i in three]"
   ]
  },
  {
   "cell_type": "code",
   "execution_count": null,
   "metadata": {
    "collapsed": true
   },
   "outputs": [],
   "source": []
  }
 ],
 "metadata": {
  "kernelspec": {
   "display_name": "Python 2",
   "language": "python",
   "name": "python2"
  },
  "language_info": {
   "codemirror_mode": {
    "name": "ipython",
    "version": 2
   },
   "file_extension": ".py",
   "mimetype": "text/x-python",
   "name": "python",
   "nbconvert_exporter": "python",
   "pygments_lexer": "ipython2",
   "version": "2.7.9"
  }
 },
 "nbformat": 4,
 "nbformat_minor": 0
}
