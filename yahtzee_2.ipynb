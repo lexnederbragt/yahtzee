{
 "cells": [
  {
   "cell_type": "markdown",
   "metadata": {},
   "source": [
    "Winning combinations"
   ]
  },
  {
   "cell_type": "code",
   "execution_count": 1,
   "metadata": {
    "collapsed": false
   },
   "outputs": [],
   "source": [
    "import itertools\n",
    "from collections import Counter"
   ]
  },
  {
   "cell_type": "code",
   "execution_count": 2,
   "metadata": {
    "collapsed": false
   },
   "outputs": [],
   "source": [
    "dices = [i for i in range(1, 7)]\n",
    "throws = {}\n",
    "# the code below is overkill in that it generates all 46656 combinations of 6 dice throws\n",
    "# but the resulting unique set is 462 combination, which seems to be correct\n",
    "for i in itertools.product(dices, dices, dices, dices, dices, dices):\n",
    "    throw = ''.join([str(j) for j in sorted(i)])\n",
    "    throws[throw] = ''"
   ]
  },
  {
   "cell_type": "code",
   "execution_count": 3,
   "metadata": {
    "collapsed": false
   },
   "outputs": [],
   "source": [
    "def get_throw_type(throw):\n",
    "    \"\"\"\n",
    "    Determines the type of throw:\n",
    "    Full/Big/Smal straight\n",
    "    Maxi Yahtzee, 5/4/3 equal\n",
    "    3/2/1 pair\n",
    "    Tower and Castle\n",
    "    To Do: number of 1's, 2's, 3's, ... for the top part of the scoring table\n",
    "    \"\"\"\n",
    "    # note that the order of the checks is important!\n",
    "    \n",
    "    # check input\n",
    "    assert type(throw) is str, 'String expected, but \"%r\" is %r' % (throw, type(throw))\n",
    "    assert len(throw) == 6, 'Throw expected to be 6 characters, not %i' % len(throw)\n",
    "\n",
    "    # process\n",
    "    throw_type = ''\n",
    "    dice_counts = Counter(throw).values()\n",
    "    if throw == '123456':\n",
    "        throw_type = 'Full straight'\n",
    "    elif ''.join(sorted(set(throw))) == '12345':\n",
    "        throw_type = 'small straight'\n",
    "    elif ''.join(sorted(set(throw))) == '23456':\n",
    "        throw_type = 'big straight'\n",
    "    elif 6 in dice_counts:\n",
    "        throw_type = 'Maxi Yahtzee'\n",
    "    elif 5 in dice_counts:\n",
    "        throw_type = 'Five equal'\n",
    "    elif 4 in dice_counts and 2 in dice_counts:\n",
    "        throw_type = 'Tower (4 + 2)'\n",
    "    elif 4 in dice_counts:\n",
    "        throw_type = 'Four equal'\n",
    "    elif dice_counts == [3, 3]:\n",
    "        throw_type = 'Castle (3 + 3)'\n",
    "    elif 3 in dice_counts:\n",
    "        throw_type = 'Three equal'\n",
    "    elif dice_counts == [2, 2, 2]:\n",
    "        throw_type = 'Three pairs'\n",
    "    elif sorted(dice_counts)[-2:] == [2, 2]:\n",
    "        throw_type = 'Two pairs'\n",
    "    elif sorted(dice_counts)[-1:] == [2]:\n",
    "        throw_type = 'One pair'\n",
    "    else:\n",
    "        raise Exception(\"Unknown combination of dice: \" , throw)\n",
    "    return throw_type"
   ]
  },
  {
   "cell_type": "code",
   "execution_count": 4,
   "metadata": {
    "collapsed": false
   },
   "outputs": [],
   "source": [
    "for throw in sorted(throws):\n",
    "    throw_type = get_throw_type(throw)\n",
    "    #if throw_type: print throw, throw_type"
   ]
  },
  {
   "cell_type": "code",
   "execution_count": 5,
   "metadata": {
    "collapsed": false
   },
   "outputs": [
    {
     "ename": "AssertionError",
     "evalue": "Throw expected to be 6 characters, not 1",
     "output_type": "error",
     "traceback": [
      "\u001b[0;31m---------------------------------------------------------------------------\u001b[0m",
      "\u001b[0;31mAssertionError\u001b[0m                            Traceback (most recent call last)",
      "\u001b[0;32m<ipython-input-5-ac17dbdea663>\u001b[0m in \u001b[0;36m<module>\u001b[0;34m()\u001b[0m\n\u001b[0;32m----> 1\u001b[0;31m \u001b[0mget_throw_type\u001b[0m\u001b[0;34m(\u001b[0m\u001b[0;34m'1'\u001b[0m\u001b[0;34m)\u001b[0m\u001b[0;34m\u001b[0m\u001b[0m\n\u001b[0m",
      "\u001b[0;32m<ipython-input-3-dcbda9dd94d6>\u001b[0m in \u001b[0;36mget_throw_type\u001b[0;34m(throw)\u001b[0m\n\u001b[1;32m     12\u001b[0m     \u001b[0;31m# check input\u001b[0m\u001b[0;34m\u001b[0m\u001b[0;34m\u001b[0m\u001b[0m\n\u001b[1;32m     13\u001b[0m     \u001b[0;32massert\u001b[0m \u001b[0mtype\u001b[0m\u001b[0;34m(\u001b[0m\u001b[0mthrow\u001b[0m\u001b[0;34m)\u001b[0m \u001b[0;32mis\u001b[0m \u001b[0mstr\u001b[0m\u001b[0;34m,\u001b[0m \u001b[0;34m'String expected, but \"%r\" is %r'\u001b[0m \u001b[0;34m%\u001b[0m \u001b[0;34m(\u001b[0m\u001b[0mthrow\u001b[0m\u001b[0;34m,\u001b[0m \u001b[0mtype\u001b[0m\u001b[0;34m(\u001b[0m\u001b[0mthrow\u001b[0m\u001b[0;34m)\u001b[0m\u001b[0;34m)\u001b[0m\u001b[0;34m\u001b[0m\u001b[0m\n\u001b[0;32m---> 14\u001b[0;31m     \u001b[0;32massert\u001b[0m \u001b[0mlen\u001b[0m\u001b[0;34m(\u001b[0m\u001b[0mthrow\u001b[0m\u001b[0;34m)\u001b[0m \u001b[0;34m==\u001b[0m \u001b[0;36m6\u001b[0m\u001b[0;34m,\u001b[0m \u001b[0;34m'Throw expected to be 6 characters, not %i'\u001b[0m \u001b[0;34m%\u001b[0m \u001b[0mlen\u001b[0m\u001b[0;34m(\u001b[0m\u001b[0mthrow\u001b[0m\u001b[0;34m)\u001b[0m\u001b[0;34m\u001b[0m\u001b[0m\n\u001b[0m\u001b[1;32m     15\u001b[0m \u001b[0;34m\u001b[0m\u001b[0m\n\u001b[1;32m     16\u001b[0m     \u001b[0;31m# process\u001b[0m\u001b[0;34m\u001b[0m\u001b[0;34m\u001b[0m\u001b[0m\n",
      "\u001b[0;31mAssertionError\u001b[0m: Throw expected to be 6 characters, not 1"
     ]
    }
   ],
   "source": [
    "get_throw_type('1')"
   ]
  },
  {
   "cell_type": "code",
   "execution_count": 6,
   "metadata": {
    "collapsed": false
   },
   "outputs": [
    {
     "ename": "AssertionError",
     "evalue": "String expected, but \"1\" is <type 'int'>",
     "output_type": "error",
     "traceback": [
      "\u001b[0;31m---------------------------------------------------------------------------\u001b[0m",
      "\u001b[0;31mAssertionError\u001b[0m                            Traceback (most recent call last)",
      "\u001b[0;32m<ipython-input-6-293a31497121>\u001b[0m in \u001b[0;36m<module>\u001b[0;34m()\u001b[0m\n\u001b[0;32m----> 1\u001b[0;31m \u001b[0mget_throw_type\u001b[0m\u001b[0;34m(\u001b[0m\u001b[0;36m1\u001b[0m\u001b[0;34m)\u001b[0m\u001b[0;34m\u001b[0m\u001b[0m\n\u001b[0m",
      "\u001b[0;32m<ipython-input-3-dcbda9dd94d6>\u001b[0m in \u001b[0;36mget_throw_type\u001b[0;34m(throw)\u001b[0m\n\u001b[1;32m     11\u001b[0m \u001b[0;34m\u001b[0m\u001b[0m\n\u001b[1;32m     12\u001b[0m     \u001b[0;31m# check input\u001b[0m\u001b[0;34m\u001b[0m\u001b[0;34m\u001b[0m\u001b[0m\n\u001b[0;32m---> 13\u001b[0;31m     \u001b[0;32massert\u001b[0m \u001b[0mtype\u001b[0m\u001b[0;34m(\u001b[0m\u001b[0mthrow\u001b[0m\u001b[0;34m)\u001b[0m \u001b[0;32mis\u001b[0m \u001b[0mstr\u001b[0m\u001b[0;34m,\u001b[0m \u001b[0;34m'String expected, but \"%r\" is %r'\u001b[0m \u001b[0;34m%\u001b[0m \u001b[0;34m(\u001b[0m\u001b[0mthrow\u001b[0m\u001b[0;34m,\u001b[0m \u001b[0mtype\u001b[0m\u001b[0;34m(\u001b[0m\u001b[0mthrow\u001b[0m\u001b[0;34m)\u001b[0m\u001b[0;34m)\u001b[0m\u001b[0;34m\u001b[0m\u001b[0m\n\u001b[0m\u001b[1;32m     14\u001b[0m     \u001b[0;32massert\u001b[0m \u001b[0mlen\u001b[0m\u001b[0;34m(\u001b[0m\u001b[0mthrow\u001b[0m\u001b[0;34m)\u001b[0m \u001b[0;34m==\u001b[0m \u001b[0;36m6\u001b[0m\u001b[0;34m,\u001b[0m \u001b[0;34m'Throw expected to be 6 characters, not %i'\u001b[0m \u001b[0;34m%\u001b[0m \u001b[0mlen\u001b[0m\u001b[0;34m(\u001b[0m\u001b[0mthrow\u001b[0m\u001b[0;34m)\u001b[0m\u001b[0;34m\u001b[0m\u001b[0m\n\u001b[1;32m     15\u001b[0m \u001b[0;34m\u001b[0m\u001b[0m\n",
      "\u001b[0;31mAssertionError\u001b[0m: String expected, but \"1\" is <type 'int'>"
     ]
    }
   ],
   "source": [
    "get_throw_type(1)"
   ]
  }
 ],
 "metadata": {
  "kernelspec": {
   "display_name": "Python 2",
   "language": "python",
   "name": "python2"
  },
  "language_info": {
   "codemirror_mode": {
    "name": "ipython",
    "version": 2
   },
   "file_extension": ".py",
   "mimetype": "text/x-python",
   "name": "python",
   "nbconvert_exporter": "python",
   "pygments_lexer": "ipython2",
   "version": "2.7.9"
  }
 },
 "nbformat": 4,
 "nbformat_minor": 0
}
