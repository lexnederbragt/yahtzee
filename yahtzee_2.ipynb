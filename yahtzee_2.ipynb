{
 "cells": [
  {
   "cell_type": "markdown",
   "metadata": {},
   "source": [
    "**Issues**  \n",
    "\n",
    "* 'Two pairs' missing as result\n",
    "* 'Full house (2 + 3)' missing as result"
   ]
  },
  {
   "cell_type": "code",
   "execution_count": null,
   "metadata": {
    "collapsed": false
   },
   "outputs": [],
   "source": [
    "import itertools\n",
    "from collections import Counter, namedtuple"
   ]
  },
  {
   "cell_type": "code",
   "execution_count": null,
   "metadata": {
    "collapsed": true
   },
   "outputs": [],
   "source": [
    "class score:\n",
    "    \"\"\"\n",
    "    Holds dice frequencies and score results for a throw\n",
    "    \"\"\"\n",
    "    def __init__(self, throw):\n",
    "        self.throw = throw\n",
    "        self.frequencies = get_dice_frequencies(throw)\n",
    "        self.results = get_throw_result(throw, self.frequencies)"
   ]
  },
  {
   "cell_type": "code",
   "execution_count": null,
   "metadata": {
    "collapsed": false
   },
   "outputs": [],
   "source": [
    "def get_dice_frequencies(throw):\n",
    "    \"\"\"\n",
    "    Returns a dictionary with the counts of unique dice, pairs, three of a kind etc\n",
    "    Examples:\n",
    "    '222333' returns {'Three of a kind': ['2', '3']}\n",
    "    '123344' returns {'Pair': ['3', '4'], 'Single': ['1', '2']}\n",
    "    \"\"\"\n",
    "    c = Counter(throw)\n",
    "    frequencies = {}\n",
    "    for i in [str(j) for j in range(1, 7)]:\n",
    "        if i in c:\n",
    "            result_type = types[c[i]]\n",
    "            if result_type in frequencies:\n",
    "                frequencies[result_type].append(i)\n",
    "            else:\n",
    "                frequencies[result_type] = [i]\n",
    "    return frequencies"
   ]
  },
  {
   "cell_type": "code",
   "execution_count": null,
   "metadata": {
    "collapsed": true
   },
   "outputs": [],
   "source": [
    "def dicesum(throw):\n",
    "    \"\"\"\n",
    "    Returns the sum of all dices in a throw\n",
    "    \"\"\"\n",
    "    return sum([int(i) for i in throw])"
   ]
  },
  {
   "cell_type": "code",
   "execution_count": null,
   "metadata": {
    "collapsed": false
   },
   "outputs": [],
   "source": [
    "def get_throw_result(throw, dice_frequencies):\n",
    "    \"\"\"\n",
    "    Determines the type of throw:\n",
    "    Full/Big/Small straight\n",
    "    Maxi Yahtzee, 5/4/3 equal\n",
    "    3/2/1 pair(s)\n",
    "    Tower and Castle\n",
    "    To Do: number of 1's, 2's, 3's, ... for the top part of the scoring table\n",
    "    \"\"\"\n",
    "    \n",
    "    # check input\n",
    "    assert type(throw) is str, 'String expected, but \"%r\" is %r' % (throw, type(throw))\n",
    "    assert len(throw) == 6, 'Throw expected to be 6 characters, not %i' % len(throw)\n",
    "    assert set('123456') == set('123456' + throw), 'Only dices between 1 and 6 allowed, found \"%s\"' % throw\n",
    "\n",
    "    # process\n",
    "    throw_type = ''\n",
    "    throw_results = []\n",
    "    if throw == '123456':\n",
    "        throw_results.append(result('Full straight', '123456', 21))\n",
    "    if ''.join(sorted(set(throw)))[0:5] == '12345':\n",
    "        throw_results.append(result('Small straight', '12345', 15))\n",
    "    if ''.join(sorted(set(throw)))[-5:] == '23456':\n",
    "        throw_results.append(result('Big straight', '23456', 20))\n",
    "\n",
    "    # Collect dice frequencies\n",
    "    # test for pairs, three of a kind, ..., Maxi Yahtzee\n",
    "    for f in range(2,7):\n",
    "        result_type = types[f]\n",
    "        if result_type in dice_frequencies:\n",
    "            for dice in dice_frequencies[result_type]:\n",
    "                throw_results.append(result(result_type, dice, f * int(dice)))\n",
    "    # test for Tower, Castle, Two pairs, Three pairs\n",
    "    if 'Pair' in dice_frequencies and len(dice_frequencies['Pair']) == 3:\n",
    "        throw_results.append(result('Three pairs', throw, dicesum(throw)))\n",
    "    if 'Three of a kind' in dice_frequencies and len(dice_frequencies['Three of a kind']) == 2:\n",
    "        throw_results.append(result('Castle (3 + 3)', throw, dicesum(throw)))\n",
    "    if 'Four of a kind' in dice_frequencies and 'Pair' in dice_frequencies:\n",
    "        throw_results.append(result('Tower (4 + 2)', throw, dicesum(throw)))\n",
    "    if len(throw_results) < 1 :\n",
    "        raise Exception(\"Unknown combination of dice: \" , throw)\n",
    "    return throw_results"
   ]
  },
  {
   "cell_type": "code",
   "execution_count": null,
   "metadata": {
    "collapsed": false
   },
   "outputs": [],
   "source": [
    "def test_dice_frequencies_singles():\n",
    "    assert get_dice_frequencies('123456') == {'Single': ['1', '2', '3', '4', '5', '6']}\n",
    "def test_dice_frequencies_3():\n",
    "    assert get_dice_frequencies('222333') == {'Three of a kind': ['2', '3']}\n",
    "def test_dice_frequencies_4():\n",
    "    assert get_dice_frequencies('111122') == {'Four of a kind': ['1'], 'Pair': ['2']}\n",
    "def test_dice_frequencies_6():\n",
    "    assert get_dice_frequencies('111111') == {'Maxi Yahtzee': ['1']}"
   ]
  },
  {
   "cell_type": "code",
   "execution_count": null,
   "metadata": {
    "collapsed": false
   },
   "outputs": [],
   "source": [
    "def test_Tower():\n",
    "    assert get_throw_result('111122', get_dice_frequencies('111122')) == \\\n",
    "    [result(type='Pair', dice='2', score=4),\n",
    "     result(type='Four of a kind', dice='1', score=4),\n",
    "     result(type='Tower (4 + 2)', dice='111122', score=8)]\n",
    "def test_Three_pairs():\n",
    "    assert get_throw_result('112244', get_dice_frequencies('112244')) == \\\n",
    "    [result(type='Pair', dice='1', score=2),\n",
    "     result(type='Pair', dice='2', score=4),\n",
    "     result(type='Pair', dice='4', score=8),\n",
    "     result(type='Three pairs', dice='112244', score=14)]\n",
    "def test_Five_of_a_kind():\n",
    "    assert get_throw_result('444441', get_dice_frequencies('444441')) == \\\n",
    "    [result(type='Five of a kind', dice='4', score=20)]\n",
    "def test_Maxi_yahtzee():\n",
    "    assert get_throw_result('222222', get_dice_frequencies('222222')) == \\\n",
    "    [result(type='Maxi Yahtzee', dice='2', score=12)]"
   ]
  },
  {
   "cell_type": "code",
   "execution_count": null,
   "metadata": {
    "collapsed": false
   },
   "outputs": [],
   "source": [
    "def test_dicesum_123456():\n",
    "    assert dicesum('123456') == 21, dicesum('123456')\n",
    "def test_dicesum_222222():\n",
    "    assert dicesum('222222') == 12, dicesum('222222')"
   ]
  },
  {
   "cell_type": "code",
   "execution_count": null,
   "metadata": {
    "collapsed": false
   },
   "outputs": [],
   "source": [
    "def test_dice_too_low_high_fail():\n",
    "    try:\n",
    "        t = get_throw_result('012345', get_dice_frequencies('012345'))\n",
    "    except AssertionError, e:\n",
    "        assert e.message == 'Only dices between 1 and 6 allowed, found \"012345\"', e.message\n",
    "def test_dice_as_int_not_string_fail():\n",
    "    try:\n",
    "        t = get_throw_result(123456, get_dice_frequencies('123456'))\n",
    "    except AssertionError, e:\n",
    "        assert e.message == 'String expected, but \"123456\" is <type \\'int\\'>', e.message\n",
    "def test_dice_too_short_fail():\n",
    "    try:\n",
    "        t = get_throw_result('12345', get_dice_frequencies('12345'))\n",
    "    except AssertionError, e:\n",
    "        assert e.message == 'Throw expected to be 6 characters, not 5', e.message"
   ]
  },
  {
   "cell_type": "code",
   "execution_count": null,
   "metadata": {
    "collapsed": true
   },
   "outputs": [],
   "source": [
    "result = namedtuple('result', ['type', 'dice', 'score'])\n",
    "types = ',Single,Pair,Three of a kind,Four of a kind,Five of a kind,Maxi Yahtzee'.split(',')"
   ]
  },
  {
   "cell_type": "code",
   "execution_count": null,
   "metadata": {
    "collapsed": false
   },
   "outputs": [],
   "source": [
    "if __name__ == '__main__':\n",
    "    dices = [i for i in range(1, 7)]\n",
    "    throws = {}\n",
    "    all_scores = {}\n",
    "    # the code below is overkill in that it generates all 46656 combinations of 6 dice throws\n",
    "    # but the resulting unique set is 462 combination, which seems to be correct\n",
    "    for i in itertools.product(dices, dices, dices, dices, dices, dices):\n",
    "        throw = ''.join([str(j) for j in sorted(i)])\n",
    "        throws[throw] = ''\n",
    "    # adding score to each throw\n",
    "    for throw in sorted(throws):\n",
    "        all_scores[throw] = score(throw)\n",
    "        print throw, [(t.type, t.dice, t.score) for t in all_scores[throw].results]"
   ]
  }
 ],
 "metadata": {
  "kernelspec": {
   "display_name": "Python 2",
   "language": "python",
   "name": "python2"
  },
  "language_info": {
   "codemirror_mode": {
    "name": "ipython",
    "version": 2
   },
   "file_extension": ".py",
   "mimetype": "text/x-python",
   "name": "python",
   "nbconvert_exporter": "python",
   "pygments_lexer": "ipython2",
   "version": "2.7.9"
  }
 },
 "nbformat": 4,
 "nbformat_minor": 0
}
