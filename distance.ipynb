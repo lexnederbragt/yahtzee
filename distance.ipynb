{
 "cells": [
  {
   "cell_type": "code",
   "execution_count": 74,
   "metadata": {
    "collapsed": true
   },
   "outputs": [],
   "source": [
    "from yahtzee_2 import *"
   ]
  },
  {
   "cell_type": "code",
   "execution_count": 21,
   "metadata": {
    "collapsed": true
   },
   "outputs": [],
   "source": [
    "type_descriptions = {'Tower (4 + 2)' : ['Pair', 'Four of a kind']}\n",
    "description_counts = {}\n",
    "for i,j in enumerate(types):\n",
    "    description_counts[j] = i"
   ]
  },
  {
   "cell_type": "code",
   "execution_count": 107,
   "metadata": {
    "collapsed": false
   },
   "outputs": [],
   "source": [
    "def get_diff(throw_in, target):\n",
    "    diff = 0\n",
    "    remove = []\n",
    "    keep = []\n",
    "    for i, j in zip(throw_in, target):\n",
    "        if i != j:\n",
    "            diff += 1\n",
    "            remove.append(i)\n",
    "        else:\n",
    "            keep.append(i)\n",
    "    return diff, ''.join(keep), ''.join(remove)"
   ]
  },
  {
   "cell_type": "code",
   "execution_count": 108,
   "metadata": {
    "collapsed": true
   },
   "outputs": [],
   "source": [
    "dices = [i for i in range(1, 7)]\n",
    "throws = {}\n",
    "# the code below is overkill in that it generates all 46656 combinations of 6 dice throws\n",
    "# but the resulting unique set is 462 combination, which seems to be correct\n",
    "for i in itertools.product(dices, dices, dices, dices, dices, dices):\n",
    "    throw = ''.join([str(j) for j in sorted(i)])\n",
    "    throws[throw] = ''"
   ]
  },
  {
   "cell_type": "code",
   "execution_count": 112,
   "metadata": {
    "collapsed": false
   },
   "outputs": [
    {
     "name": "stdout",
     "output_type": "stream",
     "text": [
      "111222 distance 3, keep '111', remove '344'\n",
      "111333 distance 2, keep '1113', remove '44'\n",
      "111444 distance 1, keep '11144', remove '3'\n",
      "111555 distance 3, keep '111', remove '344'\n",
      "111666 distance 3, keep '111', remove '344'\n",
      "222333 distance 5, keep '3', remove '11144'\n",
      "222444 distance 4, keep '44', remove '1113'\n",
      "222555 distance 6, keep '', remove '111344'\n",
      "222666 distance 6, keep '', remove '111344'\n",
      "333444 distance 4, keep '44', remove '1113'\n",
      "333555 distance 6, keep '', remove '111344'\n",
      "333666 distance 6, keep '', remove '111344'\n",
      "444555 distance 6, keep '', remove '111344'\n",
      "444666 distance 6, keep '', remove '111344'\n",
      "555666 distance 6, keep '', remove '111344'\n",
      "{1: ('111444', '11144', '3')}\n"
     ]
    }
   ],
   "source": [
    "throw_in = '111344'\n",
    "desired_type = 'Castle (3 + 3)' #'Maxi Yahtzee' # 'Tower (4 + 2)':\n",
    "shortest_dist = {6: None}\n",
    "for throw in sorted(throws):\n",
    "    for result in score(throw).results:\n",
    "        if result.type == desired_type:\n",
    "            (dist, keep, remove) = get_diff(throw_in, throw)\n",
    "            print throw, \"distance %r, keep %r, remove %r\" % (dist, keep, remove)\n",
    "            if dist < shortest_dist.keys()[0]:\n",
    "                shortest_dist= {dist : (throw, keep, remove)}\n",
    "print shortest_dist"
   ]
  },
  {
   "cell_type": "code",
   "execution_count": 5,
   "metadata": {
    "collapsed": false
   },
   "outputs": [],
   "source": [
    "# from http://stackoverflow.com/questions/2460177/edit-distance-in-python\n",
    "#this calculates edit distance not levenstein edit distance\n",
    "def distance(word1, word2):\n",
    "    len_1=len(word1)\n",
    "    len_2=len(word2)\n",
    "\n",
    "    x =[[0]*(len_2+1) for _ in range(len_1+1)]#the matrix whose last element ->edit distance\n",
    "\n",
    "    for i in range(0,len_1+1): #initialization of base case values\n",
    "        x[i][0]=i\n",
    "    for j in range(0,len_2+1):\n",
    "        x[0][j]=j\n",
    "    for i in range (1,len_1+1):\n",
    "        for j in range(1,len_2+1):\n",
    "            if word1[i-1]==word2[j-1]:\n",
    "                x[i][j] = x[i-1][j-1] \n",
    "            else :\n",
    "                x[i][j]= min(x[i][j-1],x[i-1][j],x[i-1][j-1])+1\n",
    "    return x[i][j]"
   ]
  },
  {
   "cell_type": "code",
   "execution_count": 9,
   "metadata": {
    "collapsed": false
   },
   "outputs": [
    {
     "data": {
      "text/plain": [
       "1"
      ]
     },
     "execution_count": 9,
     "metadata": {},
     "output_type": "execute_result"
    }
   ],
   "source": [
    "word1=\"rosettacode\"\n",
    "word2=\"raisethysword\"\n",
    "distance('112233', '11223')"
   ]
  },
  {
   "cell_type": "code",
   "execution_count": null,
   "metadata": {
    "collapsed": true
   },
   "outputs": [],
   "source": []
  }
 ],
 "metadata": {
  "kernelspec": {
   "display_name": "Python 2",
   "language": "python",
   "name": "python2"
  },
  "language_info": {
   "codemirror_mode": {
    "name": "ipython",
    "version": 2
   },
   "file_extension": ".py",
   "mimetype": "text/x-python",
   "name": "python",
   "nbconvert_exporter": "python",
   "pygments_lexer": "ipython2",
   "version": "2.7.9"
  }
 },
 "nbformat": 4,
 "nbformat_minor": 0
}
