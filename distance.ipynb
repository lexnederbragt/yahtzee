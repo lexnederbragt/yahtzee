{
 "cells": [
  {
   "cell_type": "code",
   "execution_count": null,
   "metadata": {
    "collapsed": true
   },
   "outputs": [],
   "source": [
    "from yahtzee_2 import get_all_scores, types"
   ]
  },
  {
   "cell_type": "code",
   "execution_count": null,
   "metadata": {
    "collapsed": true
   },
   "outputs": [],
   "source": [
    "def get_diff(throw, target):\n",
    "    \"\"\"\n",
    "    Determines the difference between a throw and a target\n",
    "    E.g. between '111344' and '111144'\n",
    "    Here, the difference is 1, dice to keep is '11144', to remove is '3'\n",
    "    \"\"\"\n",
    "    diff = 0\n",
    "    remove = []\n",
    "    keep = []\n",
    "    for i, j in zip(throw, target):\n",
    "        if i != j:\n",
    "            diff += 1\n",
    "            remove.append(i)\n",
    "        else:\n",
    "            keep.append(i)\n",
    "    return diff, ''.join(keep), ''.join(remove)"
   ]
  },
  {
   "cell_type": "code",
   "execution_count": null,
   "metadata": {
    "collapsed": false
   },
   "outputs": [],
   "source": [
    "# get all throw scores\n",
    "all_scores = get_all_scores()"
   ]
  },
  {
   "cell_type": "code",
   "execution_count": null,
   "metadata": {
    "collapsed": false
   },
   "outputs": [],
   "source": [
    "throw_in = '111344'\n",
    "desired_type = 'Castle (3 + 3)' #'Maxi Yahtzee' # 'Tower (4 + 2)':\n",
    "shortest_dist = {6: None}\n",
    "for throw in all_scores:\n",
    "    for result in all_scores[throw].results:\n",
    "        if result.type == desired_type:\n",
    "            (dist, keep, remove) = get_diff(throw_in, throw)\n",
    "            print throw, \"distance %r, keep %r, remove %r\" % (dist, keep, remove)\n",
    "            if dist < shortest_dist.keys()[0]:\n",
    "                shortest_dist= {dist : (throw, keep, remove)}\n",
    "print shortest_dist"
   ]
  }
 ],
 "metadata": {
  "kernelspec": {
   "display_name": "Python 2",
   "language": "python",
   "name": "python2"
  },
  "language_info": {
   "codemirror_mode": {
    "name": "ipython",
    "version": 2
   },
   "file_extension": ".py",
   "mimetype": "text/x-python",
   "name": "python",
   "nbconvert_exporter": "python",
   "pygments_lexer": "ipython2",
   "version": "2.7.9"
  }
 },
 "nbformat": 4,
 "nbformat_minor": 0
}
